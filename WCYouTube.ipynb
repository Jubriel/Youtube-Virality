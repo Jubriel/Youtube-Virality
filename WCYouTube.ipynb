{
 "cells": [
  {
   "cell_type": "code",
   "execution_count": 1,
   "metadata": {},
   "outputs": [],
   "source": [
    "import pandas as pd\n",
    "import numpy as np\n",
    "import matplotlib.pyplot as plt\n",
    "import seaborn as sns\n",
    "\n",
    "sns.set()"
   ]
  },
  {
   "cell_type": "code",
   "execution_count": 2,
   "metadata": {},
   "outputs": [],
   "source": [
    "US = pd.read_csv('Data/Capstone/US-ok.csv')\n",
    "CA = pd.read_csv('Data/Capstone/CA-ok.csv')\n",
    "MX = pd.read_csv('Data/Capstone/MX-ok.csv')\n",
    "DE = pd.read_csv('Data/Capstone/DE-ok.csv')\n",
    "FR = pd.read_csv('Data/Capstone/FR-ok.csv')\n",
    "GB = pd.read_csv('Data/Capstone/GB-ok.csv')\n",
    "IN = pd.read_csv('Data/Capstone/IN-ok.csv')\n",
    "KR = pd.read_csv('Data/Capstone/KR-ok.csv')\n",
    "JP = pd.read_csv('Data/Capstone/JP-ok.csv')\n",
    "RU = pd.read_csv('Data/Capstone/RU-ok.csv')\n"
   ]
  },
  {
   "cell_type": "code",
   "execution_count": 3,
   "metadata": {},
   "outputs": [
    {
     "output_type": "execute_result",
     "data": {
      "text/plain": "                        category_id     views     likes  dislikes  \\\ncategory_id                1.000000 -0.133845 -0.152176 -0.034830   \nviews                     -0.133845  1.000000  0.780728  0.422737   \nlikes                     -0.152176  0.780728  1.000000  0.448149   \ndislikes                  -0.034830  0.422737  0.448149  1.000000   \ncomment_count             -0.072457  0.516257  0.791881  0.705616   \ncomments_disabled          0.029289 -0.006420 -0.027853 -0.007445   \nratings_disabled           0.015057 -0.010169 -0.031377 -0.012646   \nvideo_error_or_removed    -0.026897  0.007639  0.006921  0.005538   \nassignable                -0.161251  0.006157  0.010212  0.003208   \n\n                        comment_count  comments_disabled  ratings_disabled  \\\ncategory_id                 -0.072457           0.029289          0.015057   \nviews                        0.516257          -0.006420         -0.010169   \nlikes                        0.791881          -0.027853         -0.031377   \ndislikes                     0.705616          -0.007445         -0.012646   \ncomment_count                1.000000          -0.025147         -0.020070   \ncomments_disabled           -0.025147           1.000000          0.289881   \nratings_disabled            -0.020070           0.289881          1.000000   \nvideo_error_or_removed       0.003249          -0.003825         -0.003516   \nassignable                   0.007328          -0.000735          0.006528   \n\n                        video_error_or_removed  assignable  \ncategory_id                          -0.026897   -0.161251  \nviews                                 0.007639    0.006157  \nlikes                                 0.006921    0.010212  \ndislikes                              0.005538    0.003208  \ncomment_count                         0.003249    0.007328  \ncomments_disabled                    -0.003825   -0.000735  \nratings_disabled                     -0.003516    0.006528  \nvideo_error_or_removed                1.000000    0.001330  \nassignable                            0.001330    1.000000  ",
      "text/html": "<div>\n<style scoped>\n    .dataframe tbody tr th:only-of-type {\n        vertical-align: middle;\n    }\n\n    .dataframe tbody tr th {\n        vertical-align: top;\n    }\n\n    .dataframe thead th {\n        text-align: right;\n    }\n</style>\n<table border=\"1\" class=\"dataframe\">\n  <thead>\n    <tr style=\"text-align: right;\">\n      <th></th>\n      <th>category_id</th>\n      <th>views</th>\n      <th>likes</th>\n      <th>dislikes</th>\n      <th>comment_count</th>\n      <th>comments_disabled</th>\n      <th>ratings_disabled</th>\n      <th>video_error_or_removed</th>\n      <th>assignable</th>\n    </tr>\n  </thead>\n  <tbody>\n    <tr>\n      <th>category_id</th>\n      <td>1.000000</td>\n      <td>-0.133845</td>\n      <td>-0.152176</td>\n      <td>-0.034830</td>\n      <td>-0.072457</td>\n      <td>0.029289</td>\n      <td>0.015057</td>\n      <td>-0.026897</td>\n      <td>-0.161251</td>\n    </tr>\n    <tr>\n      <th>views</th>\n      <td>-0.133845</td>\n      <td>1.000000</td>\n      <td>0.780728</td>\n      <td>0.422737</td>\n      <td>0.516257</td>\n      <td>-0.006420</td>\n      <td>-0.010169</td>\n      <td>0.007639</td>\n      <td>0.006157</td>\n    </tr>\n    <tr>\n      <th>likes</th>\n      <td>-0.152176</td>\n      <td>0.780728</td>\n      <td>1.000000</td>\n      <td>0.448149</td>\n      <td>0.791881</td>\n      <td>-0.027853</td>\n      <td>-0.031377</td>\n      <td>0.006921</td>\n      <td>0.010212</td>\n    </tr>\n    <tr>\n      <th>dislikes</th>\n      <td>-0.034830</td>\n      <td>0.422737</td>\n      <td>0.448149</td>\n      <td>1.000000</td>\n      <td>0.705616</td>\n      <td>-0.007445</td>\n      <td>-0.012646</td>\n      <td>0.005538</td>\n      <td>0.003208</td>\n    </tr>\n    <tr>\n      <th>comment_count</th>\n      <td>-0.072457</td>\n      <td>0.516257</td>\n      <td>0.791881</td>\n      <td>0.705616</td>\n      <td>1.000000</td>\n      <td>-0.025147</td>\n      <td>-0.020070</td>\n      <td>0.003249</td>\n      <td>0.007328</td>\n    </tr>\n    <tr>\n      <th>comments_disabled</th>\n      <td>0.029289</td>\n      <td>-0.006420</td>\n      <td>-0.027853</td>\n      <td>-0.007445</td>\n      <td>-0.025147</td>\n      <td>1.000000</td>\n      <td>0.289881</td>\n      <td>-0.003825</td>\n      <td>-0.000735</td>\n    </tr>\n    <tr>\n      <th>ratings_disabled</th>\n      <td>0.015057</td>\n      <td>-0.010169</td>\n      <td>-0.031377</td>\n      <td>-0.012646</td>\n      <td>-0.020070</td>\n      <td>0.289881</td>\n      <td>1.000000</td>\n      <td>-0.003516</td>\n      <td>0.006528</td>\n    </tr>\n    <tr>\n      <th>video_error_or_removed</th>\n      <td>-0.026897</td>\n      <td>0.007639</td>\n      <td>0.006921</td>\n      <td>0.005538</td>\n      <td>0.003249</td>\n      <td>-0.003825</td>\n      <td>-0.003516</td>\n      <td>1.000000</td>\n      <td>0.001330</td>\n    </tr>\n    <tr>\n      <th>assignable</th>\n      <td>-0.161251</td>\n      <td>0.006157</td>\n      <td>0.010212</td>\n      <td>0.003208</td>\n      <td>0.007328</td>\n      <td>-0.000735</td>\n      <td>0.006528</td>\n      <td>0.001330</td>\n      <td>1.000000</td>\n    </tr>\n  </tbody>\n</table>\n</div>"
     },
     "metadata": {},
     "execution_count": 3
    }
   ],
   "source": [
    "WC = pd.concat([CA, US, MX, DE, FR, GB, IN, JP, RU, KR], axis = 0)\n",
    "WC.corr()"
   ]
  },
  {
   "cell_type": "code",
   "execution_count": 4,
   "metadata": {},
   "outputs": [],
   "source": [
    "WC.isna().sum()\n",
    "World = WC.copy()"
   ]
  },
  {
   "cell_type": "code",
   "execution_count": 5,
   "metadata": {},
   "outputs": [
    {
     "output_type": "stream",
     "name": "stdout",
     "text": "<class 'pandas.core.frame.DataFrame'>\nInt64Index: 360662 entries, 0 to 31981\nData columns (total 16 columns):\n #   Column                  Non-Null Count   Dtype              \n---  ------                  --------------   -----              \n 0   trending_date           360662 non-null  datetime64[ns]     \n 1   publish_time            360662 non-null  datetime64[ns, UTC]\n 2   views                   360662 non-null  int64              \n 3   likes                   360662 non-null  int64              \n 4   dislikes                360662 non-null  int64              \n 5   comment_count           360662 non-null  int64              \n 6   comments_disabled       360662 non-null  bool               \n 7   ratings_disabled        360662 non-null  bool               \n 8   video_error_or_removed  360662 non-null  bool               \n 9   category                360662 non-null  object             \n 10  assignable              360662 non-null  bool               \n 11  NoTags                  360662 non-null  int64              \n 12  NoWord                  360662 non-null  int64              \n 13  NoChar                  360662 non-null  int64              \n 14  TMonths                 360662 non-null  object             \n 15  PMonths                 360662 non-null  object             \ndtypes: bool(4), datetime64[ns, UTC](1), datetime64[ns](1), int64(7), object(3)\nmemory usage: 37.1+ MB\n"
    }
   ],
   "source": [
    "import time\n",
    "World['trending_date'] = World.trending_date.apply(lambda date : '20' + str(date))\n",
    "World['trending_date'] = World.trending_date.apply(lambda date : str(date).replace('.', '/'))\n",
    "# Converting Trending date and publish time to datetime format\n",
    "World.trending_date = pd.to_datetime(World['trending_date'], format = '%Y/%d/%m')\n",
    "World.publish_time = pd.to_datetime(World['publish_time'])\n",
    "\n",
    "World['NoTags'] = [len(tag.split('|')) for tag in World['tags']]\n",
    "World['NoWord'] = [len(title.split(' ')) for title in World['title']]\n",
    "World['NoChar'] = [len(title.strip(' ')) for title in World['title']]\n",
    "World['TMonths'] = World['trending_date'].dt.month.astype(object)\n",
    "World['PMonths'] = World['publish_time'].dt.month.astype(object)\n",
    "\n",
    "World.drop(['video_id', 'category_id', 'thumbnail_link', 'description', 'title', 'channel_title', 'tags'], axis = 1, inplace = True )\n",
    "World.info()"
   ]
  },
  {
   "cell_type": "code",
   "execution_count": 6,
   "metadata": {},
   "outputs": [],
   "source": [
    "import category_encoders as ce\n",
    "encoder = ce.BinaryEncoder(cols=['category', 'TMonths', 'PMonths'])\n",
    "NAbe = encoder.fit_transform(World)"
   ]
  },
  {
   "cell_type": "code",
   "execution_count": 7,
   "metadata": {},
   "outputs": [
    {
     "output_type": "execute_result",
     "data": {
      "text/plain": "(360662, 28)"
     },
     "metadata": {},
     "execution_count": 7
    }
   ],
   "source": [
    "NAbe = pd.get_dummies(NAbe, drop_first = True)\n",
    "NAbe.shape"
   ]
  },
  {
   "cell_type": "code",
   "execution_count": 8,
   "metadata": {},
   "outputs": [],
   "source": [
    "Xn = NAbe.drop(['views','trending_date', 'publish_time'], axis= 1)\n",
    "Yn = NAbe['views']"
   ]
  },
  {
   "cell_type": "code",
   "execution_count": 9,
   "metadata": {},
   "outputs": [
    {
     "output_type": "stream",
     "name": "stdout",
     "text": "Features          Score\n0                    likes  563011.278231\n2            comment_count  131051.718805\n1                 dislikes   78476.432484\n9               category_3    3057.149703\n15                  NoChar    2291.217870\n11              category_5    1999.204541\n10              category_4    1982.106420\n17               TMonths_1     744.992897\n8               category_2     622.411517\n21               PMonths_1     443.175054\n24               PMonths_4     212.969437\n14                  NoWord     168.160843\n16               TMonths_0     160.335096\n23               PMonths_3     102.909552\n4         ratings_disabled      37.297293\n5   video_error_or_removed      21.045139\n13                  NoTags      19.854323\n3        comments_disabled      14.864239\n12              assignable      13.670478\n19               TMonths_3       6.991980\n18               TMonths_2       3.697194\n7               category_1       2.004833\n22               PMonths_2       0.085381\n"
    }
   ],
   "source": [
    "from sklearn.feature_selection import SelectKBest, f_regression\n",
    "feat = SelectKBest(score_func=f_regression, k='all')\n",
    "Selectd_X = feat.fit(Xn, Yn)\n",
    "#print(Selectd_X.scores_)\n",
    "score = pd.DataFrame(Selectd_X.scores_)\n",
    "feat = pd.DataFrame(Xn.columns)\n",
    "FeatScores = pd.concat([feat, score], axis =1)\n",
    "FeatScores.columns=['Features','Score']\n",
    "print(FeatScores.nlargest(NAbe.shape[1],'Score'))"
   ]
  },
  {
   "cell_type": "code",
   "execution_count": 10,
   "metadata": {},
   "outputs": [],
   "source": [
    "NAbe1 = NAbe[FeatScores['Features'][FeatScores['Score'] > 2]]\n",
    "NAbe1['views'] = NAbe['views'] \n",
    "NAbe1 = NAbe1[NAbe1['views'] >= 5000000]\n",
    "#FeatScores['Features'][FeatScores['Score'] > 2]"
   ]
  },
  {
   "cell_type": "code",
   "execution_count": 11,
   "metadata": {},
   "outputs": [],
   "source": [
    "Xn = NAbe1.drop('views', axis =1)\n",
    "Yn = np.log(NAbe1['views'])\n",
    "\n",
    "from sklearn.preprocessing import StandardScaler\n",
    "sc = StandardScaler()\n",
    "X = sc.fit_transform(Xn)\n",
    "y = sc.fit_transform(Yn.values.reshape(-1, 1))\n",
    "\n",
    "from sklearn.model_selection import train_test_split\n",
    "train_X, test_X, train_y, test_y = train_test_split(Xn, Yn, test_size = 0.3, random_state=42)"
   ]
  },
  {
   "cell_type": "code",
   "execution_count": 12,
   "metadata": {},
   "outputs": [
    {
     "output_type": "execute_result",
     "data": {
      "text/plain": "(0.52, 0.27)"
     },
     "metadata": {},
     "execution_count": 12
    }
   ],
   "source": [
    "from sklearn.linear_model import LinearRegression\n",
    "lm = LinearRegression()\n",
    "\n",
    "model1 = lm.fit(train_X, train_y)\n",
    "y_pred = lm.predict(test_X)\n",
    "\n",
    "from sklearn.metrics import mean_squared_error as mse\n",
    "k = mse(y_pred, test_y)\n",
    "rsme = mse(y_pred, test_y)**(1/2)\n",
    "round(rsme, 2), round(k, 2)"
   ]
  },
  {
   "cell_type": "code",
   "execution_count": 13,
   "metadata": {},
   "outputs": [
    {
     "output_type": "execute_result",
     "data": {
      "text/plain": "(0.11, 0.01)"
     },
     "metadata": {},
     "execution_count": 13
    }
   ],
   "source": [
    "from sklearn.ensemble import RandomForestRegressor\n",
    "\n",
    "rfr = RandomForestRegressor(n_estimators=200, max_depth= 100)\n",
    "model2 = rfr.fit(train_X, train_y)\n",
    "y_pred = rfr.predict(test_X)\n",
    "\n",
    "k = mse(y_pred, test_y)\n",
    "rsme = mse(y_pred, test_y)**(1/2)\n",
    "round(rsme, 2), round(k, 2)"
   ]
  },
  {
   "cell_type": "code",
   "execution_count": 14,
   "metadata": {},
   "outputs": [
    {
     "output_type": "execute_result",
     "data": {
      "text/plain": "(0.48, 0.23)"
     },
     "metadata": {},
     "execution_count": 14
    }
   ],
   "source": [
    "from sklearn.svm import SVR\n",
    "\n",
    "svr = SVR(kernel='rbf', degree = 3)\n",
    "model3 = svr.fit(train_X, train_y)\n",
    "y_pred = svr.predict(test_X)\n",
    "\n",
    "k = mse(y_pred, test_y)\n",
    "rsme = mse(y_pred, test_y)**(1/2)\n",
    "round(rsme, 2), round(k, 2)"
   ]
  },
  {
   "cell_type": "code",
   "execution_count": 15,
   "metadata": {},
   "outputs": [
    {
     "output_type": "stream",
     "name": "stdout",
     "text": "{'n_neighbors': 2}\n"
    },
    {
     "output_type": "execute_result",
     "data": {
      "text/plain": "(0.48, 0.1)"
     },
     "metadata": {},
     "execution_count": 15
    }
   ],
   "source": [
    "from sklearn.model_selection import GridSearchCV\n",
    "from sklearn.neighbors import KNeighborsRegressor\n",
    "params = {'n_neighbors':list(range(1,21))}\n",
    "knn = KNeighborsRegressor()\n",
    "model = GridSearchCV(knn, params, cv=5)\n",
    "model.fit(train_X, train_y)\n",
    "print(model.best_params_)\n",
    "\n",
    "y_pred2 = model.predict(test_X)\n",
    "k = mse(test_y, y_pred2)\n",
    "rsme = mse(y_pred, test_y)**(1/2)\n",
    "round(rsme, 2), round(k, 2)"
   ]
  },
  {
   "cell_type": "code",
   "execution_count": 16,
   "metadata": {},
   "outputs": [],
   "source": [
    "Q1 = NAbe1.quantile(0.25)\n",
    "Q3 = NAbe1.quantile(0.75)\n",
    "IQR = Q3 - Q1\n",
    "NAbe2 = NAbe1[~((NAbe1 < (Q1 - 1.5 * IQR)) |(NAbe1 > (Q3 + 1.5 * IQR))).any(axis=1)]"
   ]
  },
  {
   "cell_type": "code",
   "execution_count": 17,
   "metadata": {},
   "outputs": [],
   "source": [
    "Xn = NAbe2.drop('views', axis =1)\n",
    "Yn = np.log(NAbe2['views'])\n",
    "\n",
    "from sklearn.preprocessing import StandardScaler\n",
    "sc = StandardScaler()\n",
    "X = sc.fit_transform(Xn)\n",
    "y = sc.fit_transform(Yn.values.reshape(-1, 1))\n",
    "\n",
    "from sklearn.model_selection import train_test_split\n",
    "train_X, test_X, train_y, test_y = train_test_split(Xn, Yn, test_size = 0.3, random_state=42)"
   ]
  },
  {
   "cell_type": "code",
   "execution_count": 18,
   "metadata": {},
   "outputs": [
    {
     "output_type": "execute_result",
     "data": {
      "text/plain": "(0.39, 0.15)"
     },
     "metadata": {},
     "execution_count": 18
    }
   ],
   "source": [
    "from sklearn.linear_model import LinearRegression\n",
    "lm = LinearRegression()\n",
    "\n",
    "model5 = lm.fit(train_X, train_y)\n",
    "y_pred = lm.predict(test_X)\n",
    "\n",
    "from sklearn.metrics import mean_squared_error as mse\n",
    "k = mse(y_pred, test_y)\n",
    "rsme = mse(y_pred, test_y)**(1/2)\n",
    "round(rsme, 2), round(k, 2)"
   ]
  },
  {
   "cell_type": "code",
   "execution_count": 19,
   "metadata": {},
   "outputs": [
    {
     "output_type": "execute_result",
     "data": {
      "text/plain": "(0.11, 0.01)"
     },
     "metadata": {},
     "execution_count": 19
    }
   ],
   "source": [
    "rfr = RandomForestRegressor(n_estimators=200, max_depth= 100)\n",
    "model6 = rfr.fit(train_X, train_y)\n",
    "y_pred = rfr.predict(test_X)\n",
    "\n",
    "k = mse(y_pred, test_y)\n",
    "rsme = mse(y_pred, test_y)**(1/2)\n",
    "round(rsme, 2), round(k, 2)"
   ]
  },
  {
   "cell_type": "code",
   "execution_count": 20,
   "metadata": {},
   "outputs": [
    {
     "output_type": "execute_result",
     "data": {
      "text/plain": "(0.4, 0.16)"
     },
     "metadata": {},
     "execution_count": 20
    }
   ],
   "source": [
    "svr = SVR(kernel='rbf', degree = 3)\n",
    "model7 = svr.fit(train_X, train_y)\n",
    "y_pred = svr.predict(test_X)\n",
    "\n",
    "k = mse(y_pred, test_y)\n",
    "rsme = mse(y_pred, test_y)**(1/2)\n",
    "round(rsme, 2), round(k, 2)"
   ]
  },
  {
   "cell_type": "code",
   "execution_count": 21,
   "metadata": {},
   "outputs": [
    {
     "output_type": "stream",
     "name": "stdout",
     "text": "{'n_neighbors': 2}\n"
    },
    {
     "output_type": "execute_result",
     "data": {
      "text/plain": "(0.4, 0.05)"
     },
     "metadata": {},
     "execution_count": 21
    }
   ],
   "source": [
    "params = {'n_neighbors':list(range(1,21))}\n",
    "knn = KNeighborsRegressor()\n",
    "model8 = GridSearchCV(knn, params, cv=5)\n",
    "model8.fit(train_X, train_y)\n",
    "print(model.best_params_)\n",
    "\n",
    "y_pred2 = model.predict(test_X)\n",
    "k = mse(test_y, y_pred2)\n",
    "rsme = mse(y_pred, test_y)**(1/2)\n",
    "round(rsme, 2), round(k, 2)"
   ]
  }
 ],
 "metadata": {
  "file_extension": ".py",
  "kernelspec": {
   "display_name": "Python 3.7.5 64-bit ('base': conda)",
   "language": "python",
   "name": "python37564bitbaseconda52edd58351c6476fa35a1e475e0dad6a"
  },
  "language_info": {
   "codemirror_mode": {
    "name": "ipython",
    "version": 3
   },
   "file_extension": ".py",
   "mimetype": "text/x-python",
   "name": "python",
   "nbconvert_exporter": "python",
   "pygments_lexer": "ipython3",
   "version": "3.7.7-final"
  },
  "mimetype": "text/x-python",
  "name": "python",
  "npconvert_exporter": "python",
  "pygments_lexer": "ipython3",
  "version": 3
 },
 "nbformat": 4,
 "nbformat_minor": 4
}