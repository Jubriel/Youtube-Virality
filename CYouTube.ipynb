{
 "cells": [
  {
   "cell_type": "code",
   "execution_count": 1,
   "metadata": {},
   "outputs": [],
   "source": [
    "import pandas as pd\n",
    "import numpy as np\n",
    "import matplotlib.pyplot as plt\n",
    "import seaborn as sns\n",
    "\n",
    "sns.set()"
   ]
  },
  {
   "cell_type": "code",
   "execution_count": 2,
   "metadata": {},
   "outputs": [],
   "source": [
    "US = pd.read_csv('Data/Capstone/US-ok.csv')\n",
    "CA = pd.read_csv('Data/Capstone/CA-ok.csv')\n",
    "MX = pd.read_csv('Data/Capstone/MX-ok.csv')"
   ]
  },
  {
   "cell_type": "code",
   "execution_count": 3,
   "metadata": {},
   "outputs": [
    {
     "output_type": "execute_result",
     "data": {
      "text/plain": "                        category_id     views     likes  dislikes  \\\ncategory_id                1.000000 -0.148186 -0.157194 -0.033730   \nviews                     -0.148186  1.000000  0.840269  0.491227   \nlikes                     -0.157194  0.840269  1.000000  0.448215   \ndislikes                  -0.033730  0.491227  0.448215  1.000000   \ncomment_count             -0.074211  0.638893  0.815388  0.676530   \ncomments_disabled          0.028423  0.006470 -0.021172 -0.003396   \nratings_disabled           0.012376  0.000894 -0.024184 -0.009207   \nvideo_error_or_removed    -0.027876 -0.000951 -0.001086 -0.000697   \nassignable                -0.128189  0.004455  0.008139  0.002482   \n\n                        comment_count  comments_disabled  ratings_disabled  \\\ncategory_id                 -0.074211           0.028423          0.012376   \nviews                        0.638893           0.006470          0.000894   \nlikes                        0.815388          -0.021172         -0.024184   \ndislikes                     0.676530          -0.003396         -0.009207   \ncomment_count                1.000000          -0.023267         -0.016678   \ncomments_disabled           -0.023267           1.000000          0.232254   \nratings_disabled            -0.016678           0.232254          1.000000   \nvideo_error_or_removed      -0.001111          -0.002868         -0.002202   \nassignable                   0.006356           0.004628          0.003555   \n\n                        video_error_or_removed  assignable  \ncategory_id                          -0.027876   -0.128189  \nviews                                -0.000951    0.004455  \nlikes                                -0.001086    0.008139  \ndislikes                             -0.000697    0.002482  \ncomment_count                        -0.001111    0.006356  \ncomments_disabled                    -0.002868    0.004628  \nratings_disabled                     -0.002202    0.003555  \nvideo_error_or_removed                1.000000    0.000968  \nassignable                            0.000968    1.000000  ",
      "text/html": "<div>\n<style scoped>\n    .dataframe tbody tr th:only-of-type {\n        vertical-align: middle;\n    }\n\n    .dataframe tbody tr th {\n        vertical-align: top;\n    }\n\n    .dataframe thead th {\n        text-align: right;\n    }\n</style>\n<table border=\"1\" class=\"dataframe\">\n  <thead>\n    <tr style=\"text-align: right;\">\n      <th></th>\n      <th>category_id</th>\n      <th>views</th>\n      <th>likes</th>\n      <th>dislikes</th>\n      <th>comment_count</th>\n      <th>comments_disabled</th>\n      <th>ratings_disabled</th>\n      <th>video_error_or_removed</th>\n      <th>assignable</th>\n    </tr>\n  </thead>\n  <tbody>\n    <tr>\n      <th>category_id</th>\n      <td>1.000000</td>\n      <td>-0.148186</td>\n      <td>-0.157194</td>\n      <td>-0.033730</td>\n      <td>-0.074211</td>\n      <td>0.028423</td>\n      <td>0.012376</td>\n      <td>-0.027876</td>\n      <td>-0.128189</td>\n    </tr>\n    <tr>\n      <th>views</th>\n      <td>-0.148186</td>\n      <td>1.000000</td>\n      <td>0.840269</td>\n      <td>0.491227</td>\n      <td>0.638893</td>\n      <td>0.006470</td>\n      <td>0.000894</td>\n      <td>-0.000951</td>\n      <td>0.004455</td>\n    </tr>\n    <tr>\n      <th>likes</th>\n      <td>-0.157194</td>\n      <td>0.840269</td>\n      <td>1.000000</td>\n      <td>0.448215</td>\n      <td>0.815388</td>\n      <td>-0.021172</td>\n      <td>-0.024184</td>\n      <td>-0.001086</td>\n      <td>0.008139</td>\n    </tr>\n    <tr>\n      <th>dislikes</th>\n      <td>-0.033730</td>\n      <td>0.491227</td>\n      <td>0.448215</td>\n      <td>1.000000</td>\n      <td>0.676530</td>\n      <td>-0.003396</td>\n      <td>-0.009207</td>\n      <td>-0.000697</td>\n      <td>0.002482</td>\n    </tr>\n    <tr>\n      <th>comment_count</th>\n      <td>-0.074211</td>\n      <td>0.638893</td>\n      <td>0.815388</td>\n      <td>0.676530</td>\n      <td>1.000000</td>\n      <td>-0.023267</td>\n      <td>-0.016678</td>\n      <td>-0.001111</td>\n      <td>0.006356</td>\n    </tr>\n    <tr>\n      <th>comments_disabled</th>\n      <td>0.028423</td>\n      <td>0.006470</td>\n      <td>-0.021172</td>\n      <td>-0.003396</td>\n      <td>-0.023267</td>\n      <td>1.000000</td>\n      <td>0.232254</td>\n      <td>-0.002868</td>\n      <td>0.004628</td>\n    </tr>\n    <tr>\n      <th>ratings_disabled</th>\n      <td>0.012376</td>\n      <td>0.000894</td>\n      <td>-0.024184</td>\n      <td>-0.009207</td>\n      <td>-0.016678</td>\n      <td>0.232254</td>\n      <td>1.000000</td>\n      <td>-0.002202</td>\n      <td>0.003555</td>\n    </tr>\n    <tr>\n      <th>video_error_or_removed</th>\n      <td>-0.027876</td>\n      <td>-0.000951</td>\n      <td>-0.001086</td>\n      <td>-0.000697</td>\n      <td>-0.001111</td>\n      <td>-0.002868</td>\n      <td>-0.002202</td>\n      <td>1.000000</td>\n      <td>0.000968</td>\n    </tr>\n    <tr>\n      <th>assignable</th>\n      <td>-0.128189</td>\n      <td>0.004455</td>\n      <td>0.008139</td>\n      <td>0.002482</td>\n      <td>0.006356</td>\n      <td>0.004628</td>\n      <td>0.003555</td>\n      <td>0.000968</td>\n      <td>1.000000</td>\n    </tr>\n  </tbody>\n</table>\n</div>"
     },
     "metadata": {},
     "execution_count": 3
    }
   ],
   "source": [
    "NA = pd.concat([CA, US, MX], axis = 0)\n",
    "NA.corr()"
   ]
  },
  {
   "cell_type": "code",
   "execution_count": 4,
   "metadata": {},
   "outputs": [],
   "source": [
    "NA.isna().sum()\n",
    "#NorAm = NA[NA['views'] >= 5000000].copy() Veeeery Important\n",
    "NorAm = NA.copy()"
   ]
  },
  {
   "cell_type": "code",
   "execution_count": 5,
   "metadata": {},
   "outputs": [
    {
     "output_type": "stream",
     "name": "stdout",
     "text": "<class 'pandas.core.frame.DataFrame'>\nInt64Index: 121858 entries, 0 to 40149\nData columns (total 15 columns):\n #   Column                  Non-Null Count   Dtype              \n---  ------                  --------------   -----              \n 0   trending_date           121858 non-null  datetime64[ns]     \n 1   publish_time            121858 non-null  datetime64[ns, UTC]\n 2   views                   121858 non-null  int64              \n 3   likes                   121858 non-null  int64              \n 4   dislikes                121858 non-null  int64              \n 5   comment_count           121858 non-null  int64              \n 6   comments_disabled       121858 non-null  bool               \n 7   ratings_disabled        121858 non-null  bool               \n 8   video_error_or_removed  121858 non-null  bool               \n 9   category                121858 non-null  object             \n 10  assignable              121858 non-null  bool               \n 11  NoTags                  121858 non-null  int64              \n 12  NoWord                  121858 non-null  int64              \n 13  NoChar                  121858 non-null  int64              \n 14  Months                  121858 non-null  object             \ndtypes: bool(4), datetime64[ns, UTC](1), datetime64[ns](1), int64(7), object(2)\nmemory usage: 11.6+ MB\n"
    }
   ],
   "source": [
    "import time\n",
    "NorAm['trending_date'] = NorAm.trending_date.apply(lambda date : '20' + str(date))\n",
    "NorAm['trending_date'] = NorAm.trending_date.apply(lambda date : str(date).replace('.', '/'))\n",
    "# Converting Trending date and publish time to datetime format\n",
    "NorAm.trending_date = pd.to_datetime(NorAm['trending_date'], format = '%Y/%d/%m')\n",
    "NorAm.publish_time = pd.to_datetime(NorAm['publish_time'])\n",
    "\n",
    "NorAm['NoTags'] = [len(tag.split('|')) for tag in NorAm['tags']]\n",
    "NorAm['NoWord'] = [len(title.split(' ')) for title in NorAm['title']]\n",
    "NorAm['NoChar'] = [len(title.strip(' ')) for title in NorAm['title']]\n",
    "NorAm['Months'] = NorAm['trending_date'].dt.month.astype(object)\n",
    "\n",
    "NorAm.drop(['video_id', 'category_id', 'thumbnail_link', 'description', 'title', 'channel_title', 'tags'], axis = 1, inplace = True )\n",
    "NorAm.info()"
   ]
  },
  {
   "cell_type": "code",
   "execution_count": 6,
   "metadata": {},
   "outputs": [],
   "source": [
    "import category_encoders as ce\n",
    "encoder = ce.BinaryEncoder(cols=['category', 'Months'])\n",
    "NAbe = encoder.fit_transform(NorAm)"
   ]
  },
  {
   "cell_type": "code",
   "execution_count": 7,
   "metadata": {},
   "outputs": [
    {
     "output_type": "execute_result",
     "data": {
      "text/plain": "(121858, 23)"
     },
     "metadata": {},
     "execution_count": 7
    }
   ],
   "source": [
    "NAbe = pd.get_dummies(NAbe, drop_first = True)\n",
    "NAbe.shape"
   ]
  },
  {
   "cell_type": "code",
   "execution_count": 8,
   "metadata": {},
   "outputs": [],
   "source": [
    "Xn = NAbe.drop(['views','trending_date', 'publish_time'], axis= 1)\n",
    "Yn = NAbe['views']"
   ]
  },
  {
   "cell_type": "code",
   "execution_count": 9,
   "metadata": {},
   "outputs": [
    {
     "output_type": "stream",
     "name": "stdout",
     "text": "Features          Score\n0                    likes  292694.276138\n2            comment_count   84045.730989\n1                 dislikes   38756.316012\n9               category_3     921.130304\n11              category_5     715.918984\n10              category_4     515.029282\n15                  NoChar     435.872499\n16                Months_0     406.173222\n14                  NoWord     349.156461\n8               category_2     130.497618\n17                Months_1     122.694769\n13                  NoTags      42.421514\n18                Months_2      33.465405\n7               category_1       7.327577\n3        comments_disabled       5.100821\n12              assignable       2.418672\n19                Months_3       2.074668\n5   video_error_or_removed       0.110149\n4         ratings_disabled       0.097481\n"
    }
   ],
   "source": [
    "from sklearn.feature_selection import SelectKBest, f_regression\n",
    "feat = SelectKBest(score_func=f_regression, k='all')\n",
    "Selectd_X = feat.fit(Xn, Yn)\n",
    "#print(Selectd_X.scores_)\n",
    "score = pd.DataFrame(Selectd_X.scores_)\n",
    "feat = pd.DataFrame(Xn.columns)\n",
    "FeatScores = pd.concat([feat, score], axis =1)\n",
    "FeatScores.columns=['Features','Score']\n",
    "print(FeatScores.nlargest(NAbe.shape[1],'Score'))"
   ]
  },
  {
   "cell_type": "code",
   "execution_count": 10,
   "metadata": {},
   "outputs": [],
   "source": [
    "NAbe1 = NAbe[FeatScores['Features'][FeatScores['Score'] > 2]]\n",
    "NAbe1['views'] = NAbe['views'] \n",
    "NAbe1 = NAbe1[NAbe1['views'] >= 5000000]\n",
    "#FeatScores['Features'][FeatScores['Score'] > 2]"
   ]
  },
  {
   "cell_type": "code",
   "execution_count": 11,
   "metadata": {},
   "outputs": [],
   "source": [
    "Xn = NAbe1.drop('views', axis =1)\n",
    "Yn = np.log(NAbe1['views'])\n",
    "\n",
    "from sklearn.preprocessing import StandardScaler\n",
    "sc = StandardScaler()\n",
    "X = sc.fit_transform(Xn)\n",
    "y = sc.fit_transform(Yn.values.reshape(-1, 1))\n",
    "\n",
    "from sklearn.model_selection import train_test_split\n",
    "train_X, test_X, train_y, test_y = train_test_split(Xn, Yn, test_size = 0.3, random_state=42)"
   ]
  },
  {
   "cell_type": "code",
   "execution_count": 12,
   "metadata": {},
   "outputs": [
    {
     "output_type": "execute_result",
     "data": {
      "text/plain": "(0.47, 0.22)"
     },
     "metadata": {},
     "execution_count": 12
    }
   ],
   "source": [
    "from sklearn.linear_model import LinearRegression\n",
    "lm = LinearRegression()\n",
    "\n",
    "model1 = lm.fit(train_X, train_y)\n",
    "y_pred = lm.predict(test_X)\n",
    "\n",
    "from sklearn.metrics import mean_squared_error as mse\n",
    "k = mse(y_pred, test_y)\n",
    "rsme = mse(y_pred, test_y)**(1/2)\n",
    "round(rsme, 2), round(k, 2)"
   ]
  },
  {
   "cell_type": "code",
   "execution_count": 13,
   "metadata": {},
   "outputs": [
    {
     "output_type": "execute_result",
     "data": {
      "text/plain": "(0.21, 0.04)"
     },
     "metadata": {},
     "execution_count": 13
    }
   ],
   "source": [
    "from sklearn.ensemble import RandomForestRegressor\n",
    "\n",
    "rfr = RandomForestRegressor(n_estimators=200, max_depth= 100)\n",
    "model2 = rfr.fit(train_X, train_y)\n",
    "y_pred = rfr.predict(test_X)\n",
    "\n",
    "k = mse(y_pred, test_y)\n",
    "rsme = mse(y_pred, test_y)**(1/2)\n",
    "round(rsme, 2), round(k, 2)"
   ]
  },
  {
   "cell_type": "code",
   "execution_count": 14,
   "metadata": {},
   "outputs": [
    {
     "output_type": "execute_result",
     "data": {
      "text/plain": "(0.45, 0.2)"
     },
     "metadata": {},
     "execution_count": 14
    }
   ],
   "source": [
    "from sklearn.svm import SVR\n",
    "\n",
    "svr = SVR(kernel='rbf', degree = 3)\n",
    "model3 = svr.fit(train_X, train_y)\n",
    "y_pred = svr.predict(test_X)\n",
    "\n",
    "k = mse(y_pred, test_y)\n",
    "rsme = mse(y_pred, test_y)**(1/2)\n",
    "round(rsme, 2), round(k, 2)"
   ]
  },
  {
   "cell_type": "code",
   "execution_count": 15,
   "metadata": {},
   "outputs": [
    {
     "output_type": "stream",
     "name": "stdout",
     "text": "{'n_neighbors': 3}\n"
    },
    {
     "output_type": "execute_result",
     "data": {
      "text/plain": "(0.45, 0.14)"
     },
     "metadata": {},
     "execution_count": 15
    }
   ],
   "source": [
    "from sklearn.model_selection import GridSearchCV\n",
    "from sklearn.neighbors import KNeighborsRegressor\n",
    "params = {'n_neighbors':list(range(1,21))}\n",
    "knn = KNeighborsRegressor()\n",
    "model = GridSearchCV(knn, params, cv=5)\n",
    "model.fit(train_X, train_y)\n",
    "print(model.best_params_)\n",
    "\n",
    "y_pred2 = model.predict(test_X)\n",
    "k = mse(test_y, y_pred2)\n",
    "rsme = mse(y_pred, test_y)**(1/2)\n",
    "round(rsme, 2), round(k, 2)"
   ]
  },
  {
   "cell_type": "code",
   "execution_count": null,
   "metadata": {},
   "outputs": [],
   "source": []
  }
 ],
 "metadata": {
  "file_extension": ".py",
  "kernelspec": {
   "display_name": "Python 3.7.5 64-bit ('base': conda)",
   "language": "python",
   "name": "python37564bitbaseconda52edd58351c6476fa35a1e475e0dad6a"
  },
  "language_info": {
   "codemirror_mode": {
    "name": "ipython",
    "version": 3
   },
   "file_extension": ".py",
   "mimetype": "text/x-python",
   "name": "python",
   "nbconvert_exporter": "python",
   "pygments_lexer": "ipython3",
   "version": "3.7.7-final"
  },
  "mimetype": "text/x-python",
  "name": "python",
  "npconvert_exporter": "python",
  "pygments_lexer": "ipython3",
  "version": 3
 },
 "nbformat": 4,
 "nbformat_minor": 4
}